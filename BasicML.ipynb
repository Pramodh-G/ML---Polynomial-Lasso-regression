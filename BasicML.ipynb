{
  "nbformat": 4,
  "nbformat_minor": 0,
  "metadata": {
    "colab": {
      "name": "BasicML.ipynb",
      "provenance": [],
      "collapsed_sections": [],
      "authorship_tag": "ABX9TyORVE/RlD3NiskML1jjlJ+O",
      "include_colab_link": true
    },
    "kernelspec": {
      "name": "python3",
      "display_name": "Python 3"
    }
  },
  "cells": [
    {
      "cell_type": "markdown",
      "metadata": {
        "id": "view-in-github",
        "colab_type": "text"
      },
      "source": [
        "<a href=\"https://colab.research.google.com/github/pramodh-1612/ML---Polynomial-Lasso-regression/blob/master/BasicML.ipynb\" target=\"_parent\"><img src=\"https://colab.research.google.com/assets/colab-badge.svg\" alt=\"Open In Colab\"/></a>"
      ]
    },
    {
      "cell_type": "code",
      "metadata": {
        "id": "s74Ml0sMOAfw",
        "colab_type": "code",
        "colab": {}
      },
      "source": [
        "#importing libraries\n",
        "\n",
        "import numpy as np\n",
        "import matplotlib.pyplot as plt\n",
        "%matplotlib inline"
      ],
      "execution_count": 0,
      "outputs": []
    },
    {
      "cell_type": "code",
      "metadata": {
        "id": "p-oy4gs7OZOk",
        "colab_type": "code",
        "outputId": "07834307-990d-4f40-94d0-a0116ec709fd",
        "colab": {
          "base_uri": "https://localhost:8080/",
          "height": 34
        }
      },
      "source": [
        "#creating random dataset \n",
        "np.random.seed(42)\n",
        "X =  np.linspace(start=1,stop=11,num=50).reshape(-1,1)\n",
        "Y =  2*np.square(X) + 5*X + np.random.randn(50,1)*9+ +2*np.ones((50,1))  #with variance 10 amd mean 1\n",
        "Y = Y.reshape(-1,1)\n",
        "m = X.shape[0]\n",
        "print(m)"
      ],
      "execution_count": 0,
      "outputs": [
        {
          "output_type": "stream",
          "text": [
            "50\n"
          ],
          "name": "stdout"
        }
      ]
    },
    {
      "cell_type": "code",
      "metadata": {
        "id": "TnmdRp5sQ-RE",
        "colab_type": "code",
        "outputId": "996aa937-f36c-4e68-c51e-225e079a0529",
        "colab": {
          "base_uri": "https://localhost:8080/",
          "height": 282
        }
      },
      "source": [
        "print(X.shape[0],Y.shape)\n",
        "plt.scatter(X,Y)\n",
        "plt.show()"
      ],
      "execution_count": 0,
      "outputs": [
        {
          "output_type": "stream",
          "text": [
            "50 (50, 1)\n"
          ],
          "name": "stdout"
        },
        {
          "output_type": "display_data",
          "data": {
            "image/png": "[encoded data removed]",
            "text/plain": [
              "<Figure size 432x288 with 1 Axes>"
            ]
          },
          "metadata": {
            "tags": []
          }
        }
      ]
    },
    {
      "cell_type": "code",
      "metadata": {
        "id": "5UlVN5FkRQes",
        "colab_type": "code",
        "outputId": "cd949c7a-838e-4573-e307-82f62cbc1a3b",
        "colab": {
          "base_uri": "https://localhost:8080/",
          "height": 34
        }
      },
      "source": [
        "\n",
        "\n",
        "\"\"\"\n",
        "(ignoring the fact that the data set was just made by me) we can see from the plot\n",
        "that a quadratic function would fit nicely to the dataset.hence we'll try and fit a\n",
        "quadratic function.\n",
        "\n",
        "We'll try and fit a quadratic aX^2 + bX + c to the function,using the close square solution method method.\n",
        "\"\"\"\n",
        "X_train = np.concatenate((np.ones((X.shape[0],1)),X,np.square(X)),axis=1)\n",
        "\n",
        "params = np.random.randn(3,1)\n",
        "params.shape"
      ],
      "execution_count": 0,
      "outputs": [
        {
          "output_type": "execute_result",
          "data": {
            "text/plain": [
              "(3, 1)"
            ]
          },
          "metadata": {
            "tags": []
          },
          "execution_count": 316
        }
      ]
    },
    {
      "cell_type": "code",
      "metadata": {
        "id": "yLHCGczmvQZs",
        "colab_type": "code",
        "colab": {}
      },
      "source": [
        "params = np.linalg.inv((X_train.T@X_train))@X_train.T@Y"
      ],
      "execution_count": 0,
      "outputs": []
    },
    {
      "cell_type": "code",
      "metadata": {
        "id": "F0unc8F39TOs",
        "colab_type": "code",
        "outputId": "8357c5e7-2d78-48a9-9c56-ebb61d1ac562",
        "colab": {
          "base_uri": "https://localhost:8080/",
          "height": 282
        }
      },
      "source": [
        "plt.scatter(X,Y)\n",
        "plt.plot(X,X_train@params)\n",
        "plt.show()\n",
        "print((X_train.T@((X_train@params).reshape(-1,1)-Y)).shape)"
      ],
      "execution_count": 0,
      "outputs": [
        {
          "output_type": "display_data",
          "data": {
            "image/png": "[encoded data removed]",
            "text/plain": [
              "<Figure size 432x288 with 1 Axes>"
            ]
          },
          "metadata": {
            "tags": []
          }
        },
        {
          "output_type": "stream",
          "text": [
            "(3, 1)\n"
          ],
          "name": "stdout"
        }
      ]
    },
    {
      "cell_type": "code",
      "metadata": {
        "id": "0Sd9xbzSxnAw",
        "colab_type": "code",
        "outputId": "c506c0fc-8b2c-4ddb-daa0-7861dc8623df",
        "colab": {
          "base_uri": "https://localhost:8080/",
          "height": 34
        }
      },
      "source": [
        "#using scikit-learn to do the same thing.\n",
        "\n",
        "from sklearn.preprocessing import PolynomialFeatures \n",
        "from sklearn.linear_model import LinearRegression\n",
        "\n",
        "PolyReg = PolynomialFeatures(degree = 2)\n",
        "X_scikit = PolyReg.fit_transform(X)  \n",
        "linear = LinearRegression() \n",
        "linear.fit(X_scikit,Y)"
      ],
      "execution_count": 0,
      "outputs": [
        {
          "output_type": "execute_result",
          "data": {
            "text/plain": [
              "LinearRegression(copy_X=True, fit_intercept=True, n_jobs=None, normalize=False)"
            ]
          },
          "metadata": {
            "tags": []
          },
          "execution_count": 313
        }
      ]
    },
    {
      "cell_type": "code",
      "metadata": {
        "id": "8kj-gst51wAI",
        "colab_type": "code",
        "outputId": "84df2378-365f-470b-c97f-fe6e0f4aafb8",
        "colab": {
          "base_uri": "https://localhost:8080/",
          "height": 265
        }
      },
      "source": [
        "#comparing scikit learn and our model\n",
        "plt.scatter(X, Y) \n",
        "plt.plot(X, linear.predict(X_scikit), color = 'red')\n",
        "plt.plot(X,X_train@params)\n",
        "plt.show() "
      ],
      "execution_count": 0,
      "outputs": [
        {
          "output_type": "display_data",
          "data": {
            "image/png": "[encoded data removed]",
            "text/plain": [
              "<Figure size 432x288 with 1 Axes>"
            ]
          },
          "metadata": {
            "tags": []
          }
        }
      ]
    },
    {
      "cell_type": "code",
      "metadata": {
        "id": "Y6qR-5vs2FtM",
        "colab_type": "code",
        "colab": {}
      },
      "source": [
        "\"\"\"\n",
        "as we can see they both match exactly.\n",
        "\"\"\""
      ],
      "execution_count": 0,
      "outputs": []
    }
  ]
}